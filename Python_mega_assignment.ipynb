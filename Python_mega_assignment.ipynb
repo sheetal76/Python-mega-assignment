{
  "nbformat": 4,
  "nbformat_minor": 0,
  "metadata": {
    "colab": {
      "provenance": []
    },
    "kernelspec": {
      "name": "python3",
      "display_name": "Python 3"
    },
    "language_info": {
      "name": "python"
    }
  },
  "cells": [
    {
      "cell_type": "code",
      "execution_count": null,
      "metadata": {
        "id": "xj_za5z8nIuQ"
      },
      "outputs": [],
      "source": [
        "#Q26. What is a string? How can we declare string in Python?"
      ]
    },
    {
      "cell_type": "markdown",
      "source": [
        "\n",
        "In Python, a string is a sequence of characters enclosed within single quotes (') or double quotes (\"). Strings are used to represent text data and can include letters, numbers, symbols, and spaces."
      ],
      "metadata": {
        "id": "YKFbe7t1nUj8"
      }
    },
    {
      "cell_type": "code",
      "source": [
        "#Q27. How can we access the string using its index?"
      ],
      "metadata": {
        "id": "-S06B9zHnywq"
      },
      "execution_count": null,
      "outputs": []
    },
    {
      "cell_type": "markdown",
      "source": [
        "\n",
        "In Python, you can access individual characters of a string using indexing. String indexing starts from 0 for the first character, 1 for the second character, and so on. Additionally, negative indexing allows you to access characters from the end of the string, with -1 representing the last character, -2 the second-to-last character, and so forth."
      ],
      "metadata": {
        "id": "4I0i08iBn3O1"
      }
    },
    {
      "cell_type": "code",
      "source": [
        "a = \"sheetal\" ## we can access first letter of the string sheetal\n",
        "a[0]"
      ],
      "metadata": {
        "colab": {
          "base_uri": "https://localhost:8080/",
          "height": 35
        },
        "id": "LY2eSiIqoB72",
        "outputId": "0b68803d-32d8-468c-8fd7-64c0528aa19a"
      },
      "execution_count": null,
      "outputs": [
        {
          "output_type": "execute_result",
          "data": {
            "text/plain": [
              "'s'"
            ],
            "application/vnd.google.colaboratory.intrinsic+json": {
              "type": "string"
            }
          },
          "metadata": {},
          "execution_count": 1
        }
      ]
    },
    {
      "cell_type": "code",
      "source": [
        "#Q28. Write a code to get the desired output of the following\n",
        "#string = \"Big Data iNeuron\"\n",
        "#desired_output = \"iNeuron\""
      ],
      "metadata": {
        "id": "xNokZVuloFik"
      },
      "execution_count": null,
      "outputs": []
    },
    {
      "cell_type": "code",
      "source": [
        "string = \"Big Data iNeuron\"\n",
        "desired_output=string[9:17]\n",
        "print(desired_output)"
      ],
      "metadata": {
        "colab": {
          "base_uri": "https://localhost:8080/"
        },
        "id": "4fFtcPGmoYN6",
        "outputId": "5b108ee1-4600-4dc3-d685-9f127889ec6b"
      },
      "execution_count": null,
      "outputs": [
        {
          "output_type": "stream",
          "name": "stdout",
          "text": [
            "iNeuron\n"
          ]
        }
      ]
    },
    {
      "cell_type": "code",
      "source": [
        "#Q29. Write a code to get the desired output of the following\n",
        "#string = \"Big Data iNeuron\"\n",
        "#desired_output = \"norueNi\""
      ],
      "metadata": {
        "id": "EOhGUEdrosIz"
      },
      "execution_count": null,
      "outputs": []
    },
    {
      "cell_type": "code",
      "source": [
        "string = \"Big Data iNeuron\"\n",
        "desired_output=string[16:8:-1]\n",
        "print(desired_output)"
      ],
      "metadata": {
        "colab": {
          "base_uri": "https://localhost:8080/"
        },
        "id": "j1MvMwEko6XC",
        "outputId": "213f62f4-9b4f-437f-e381-2cc10df70030"
      },
      "execution_count": null,
      "outputs": [
        {
          "output_type": "stream",
          "name": "stdout",
          "text": [
            "norueNi\n"
          ]
        }
      ]
    },
    {
      "cell_type": "code",
      "source": [
        "#Q30. Resverse the string given in the above question."
      ],
      "metadata": {
        "id": "5JGPkJwspInp"
      },
      "execution_count": null,
      "outputs": []
    },
    {
      "cell_type": "code",
      "source": [
        "string = \"Big Data iNeuron\"\n",
        "reverse_string=string[::-1]\n",
        "print(reverse_string)"
      ],
      "metadata": {
        "colab": {
          "base_uri": "https://localhost:8080/"
        },
        "id": "G6wZ_SzdqMrt",
        "outputId": "116a0a1d-5980-415a-f4a1-62ac8892509a"
      },
      "execution_count": null,
      "outputs": [
        {
          "output_type": "stream",
          "name": "stdout",
          "text": [
            "norueNi ataD giB\n"
          ]
        }
      ]
    },
    {
      "cell_type": "code",
      "source": [
        "#Q31. How can you delete entire string at once?"
      ],
      "metadata": {
        "id": "Flx1PnILqU_C"
      },
      "execution_count": null,
      "outputs": []
    },
    {
      "cell_type": "code",
      "source": [
        "string = \"Big Data iNeuron\"\n",
        "print(string)\n",
        "del string\n",
        "print(string) ## this wil raise an error because the variable no longer exists"
      ],
      "metadata": {
        "colab": {
          "base_uri": "https://localhost:8080/",
          "height": 228
        },
        "id": "-CrrCcAXqwqN",
        "outputId": "c1508cf6-6ace-40dd-c5f4-352ce897fbaa"
      },
      "execution_count": null,
      "outputs": [
        {
          "output_type": "stream",
          "name": "stdout",
          "text": [
            "Big Data iNeuron\n"
          ]
        },
        {
          "output_type": "error",
          "ename": "NameError",
          "evalue": "name 'string' is not defined",
          "traceback": [
            "\u001b[0;31m---------------------------------------------------------------------------\u001b[0m",
            "\u001b[0;31mNameError\u001b[0m                                 Traceback (most recent call last)",
            "\u001b[0;32m<ipython-input-16-896c9962e5fc>\u001b[0m in \u001b[0;36m<cell line: 4>\u001b[0;34m()\u001b[0m\n\u001b[1;32m      2\u001b[0m \u001b[0mprint\u001b[0m\u001b[0;34m(\u001b[0m\u001b[0mstring\u001b[0m\u001b[0;34m)\u001b[0m\u001b[0;34m\u001b[0m\u001b[0;34m\u001b[0m\u001b[0m\n\u001b[1;32m      3\u001b[0m \u001b[0;32mdel\u001b[0m \u001b[0mstring\u001b[0m\u001b[0;34m\u001b[0m\u001b[0;34m\u001b[0m\u001b[0m\n\u001b[0;32m----> 4\u001b[0;31m \u001b[0mprint\u001b[0m\u001b[0;34m(\u001b[0m\u001b[0mstring\u001b[0m\u001b[0;34m)\u001b[0m\u001b[0;34m\u001b[0m\u001b[0;34m\u001b[0m\u001b[0m\n\u001b[0m",
            "\u001b[0;31mNameError\u001b[0m: name 'string' is not defined"
          ]
        }
      ]
    },
    {
      "cell_type": "code",
      "source": [
        "#Q32. What is escape sequence?"
      ],
      "metadata": {
        "id": "wUYa1cgCq5mt"
      },
      "execution_count": null,
      "outputs": []
    },
    {
      "cell_type": "markdown",
      "source": [
        "\n",
        "An escape sequence is a combination of characters in a string that represents a special or non-printable character. It typically begins with a backslash \\ followed by a specific character or code. Escape sequences are commonly used in programming languages and text processing to represent characters that cannot be easily typed or displayed directly.\n",
        "\n",
        "For example: \\n for a newline character\n",
        "             \\t for a tab character\n",
        "\n",
        "Using escape sequences allows programmers to include special characters in strings without conflicting with the syntax of the programming language."
      ],
      "metadata": {
        "id": "kO8Fx6ytYWiY"
      }
    },
    {
      "cell_type": "code",
      "source": [
        "#Q33. How can you print the below string?\n",
        "#'iNeuron's Big Data Course'"
      ],
      "metadata": {
        "id": "4rpLrn_JYk6F"
      },
      "execution_count": null,
      "outputs": []
    },
    {
      "cell_type": "code",
      "source": [
        "print('iNeuron\\'s Big Data Course')\n"
      ],
      "metadata": {
        "colab": {
          "base_uri": "https://localhost:8080/"
        },
        "id": "w_DYYA5mZISy",
        "outputId": "d7da6cee-266e-45d2-adc8-6c8c43644148"
      },
      "execution_count": null,
      "outputs": [
        {
          "output_type": "stream",
          "name": "stdout",
          "text": [
            "iNeuron's Big Data Course\n"
          ]
        }
      ]
    },
    {
      "cell_type": "code",
      "source": [
        "print(\"iNeuron's Big Data Course\")\n"
      ],
      "metadata": {
        "colab": {
          "base_uri": "https://localhost:8080/"
        },
        "id": "63roWrW4ZVs4",
        "outputId": "f3988a04-c314-4b2b-9b9e-bbb78314850f"
      },
      "execution_count": null,
      "outputs": [
        {
          "output_type": "stream",
          "name": "stdout",
          "text": [
            "iNeuron's Big Data Course\n"
          ]
        }
      ]
    },
    {
      "cell_type": "code",
      "source": [
        "#Q34. What is a list in Python?"
      ],
      "metadata": {
        "id": "VafazYCEZaaj"
      },
      "execution_count": null,
      "outputs": []
    },
    {
      "cell_type": "markdown",
      "source": [
        "In Python, a list is a built-in data structure used to store a collection of items. Lists are ordered, mutable (modifiable), and can contain elements of different data types, including integers, floats, strings, and even other lists. Lists are defined using square brackets [], with elements separated by commas.\n",
        "\n",
        "For example: my_list = [1, 2, 3, 'apple', 'banana', 5.0, [1,2,3]]\n"
      ],
      "metadata": {
        "id": "U-G23HlyZf-_"
      }
    },
    {
      "cell_type": "code",
      "source": [
        "#Q35. How can you create a list in Python?"
      ],
      "metadata": {
        "id": "ZXMdsQDlZ1sX"
      },
      "execution_count": null,
      "outputs": []
    },
    {
      "cell_type": "code",
      "source": [
        "#Using square bracket:\n",
        "lst = [1,2,3,4]\n",
        "print(lst)"
      ],
      "metadata": {
        "colab": {
          "base_uri": "https://localhost:8080/"
        },
        "id": "QcY7reKSausR",
        "outputId": "85ebc7d6-66a8-4b92-f990-5ee3c2b11d6d"
      },
      "execution_count": null,
      "outputs": [
        {
          "output_type": "stream",
          "name": "stdout",
          "text": [
            "[1, 2, 3, 4]\n"
          ]
        }
      ]
    },
    {
      "cell_type": "code",
      "source": [
        "#Using list() constructor:\n",
        "my_list = list(\"hello\")\n",
        "print(my_list)"
      ],
      "metadata": {
        "colab": {
          "base_uri": "https://localhost:8080/"
        },
        "id": "Me7qztTCaz9S",
        "outputId": "f4d905a1-4e7f-45c9-d7bb-532b1d7e5587"
      },
      "execution_count": null,
      "outputs": [
        {
          "output_type": "stream",
          "name": "stdout",
          "text": [
            "['h', 'e', 'l', 'l', 'o']\n"
          ]
        }
      ]
    },
    {
      "cell_type": "code",
      "source": [
        "#List comprehension: squares:\n",
        "a=[x**2 for x in range(10)]\n",
        "print(a)"
      ],
      "metadata": {
        "colab": {
          "base_uri": "https://localhost:8080/"
        },
        "id": "5Yj0V6pXa8XO",
        "outputId": "490d8af4-9d72-4ea2-94df-e4b55ccd27db"
      },
      "execution_count": null,
      "outputs": [
        {
          "output_type": "stream",
          "name": "stdout",
          "text": [
            "[0, 1, 4, 9, 16, 25, 36, 49, 64, 81]\n"
          ]
        }
      ]
    },
    {
      "cell_type": "code",
      "source": [
        "#Q36. How can we access the elements in a list?"
      ],
      "metadata": {
        "id": "-B9Vskt2bCiH"
      },
      "execution_count": null,
      "outputs": []
    },
    {
      "cell_type": "code",
      "source": [
        "#1) Thtough indexing\n",
        "l1=[1,2,3,4]\n",
        "l1[0]"
      ],
      "metadata": {
        "colab": {
          "base_uri": "https://localhost:8080/"
        },
        "id": "VkWkPMTwbTv1",
        "outputId": "c3721473-f26b-4cdd-9050-77238fb5a3aa"
      },
      "execution_count": null,
      "outputs": [
        {
          "output_type": "execute_result",
          "data": {
            "text/plain": [
              "1"
            ]
          },
          "metadata": {},
          "execution_count": 10
        }
      ]
    },
    {
      "cell_type": "code",
      "source": [
        "#2)Slicing\n",
        "l2=['my','name','is','sheetal']\n",
        "l2[1:]"
      ],
      "metadata": {
        "colab": {
          "base_uri": "https://localhost:8080/"
        },
        "id": "ZfY-vSCgbd_F",
        "outputId": "ea83628e-56b1-4d8e-e4e7-d6f8b8ea0330"
      },
      "execution_count": null,
      "outputs": [
        {
          "output_type": "execute_result",
          "data": {
            "text/plain": [
              "['name', 'is', 'sheetal']"
            ]
          },
          "metadata": {},
          "execution_count": 11
        }
      ]
    },
    {
      "cell_type": "code",
      "source": [
        "#Q37. Write a code to access the word \"iNeuron\" from the given list.\n",
        "#lst = [1,2,3,\"Hi\",[45,54, \"iNeuron\"], \"Big Data\"]"
      ],
      "metadata": {
        "id": "SmJwBgAfbrwJ"
      },
      "execution_count": null,
      "outputs": []
    },
    {
      "cell_type": "code",
      "source": [
        "lst = [1,2,3,\"Hi\",[45,54, \"iNeuron\"], \"Big Data\"]\n",
        "lst[4][2]"
      ],
      "metadata": {
        "colab": {
          "base_uri": "https://localhost:8080/",
          "height": 35
        },
        "id": "rkT7ZREPbyGj",
        "outputId": "19f43add-4f2f-4e65-bec1-07a329347f0d"
      },
      "execution_count": null,
      "outputs": [
        {
          "output_type": "execute_result",
          "data": {
            "text/plain": [
              "'iNeuron'"
            ],
            "application/vnd.google.colaboratory.intrinsic+json": {
              "type": "string"
            }
          },
          "metadata": {},
          "execution_count": 16
        }
      ]
    },
    {
      "cell_type": "code",
      "source": [
        "#Q38. Take a list as an input from the user and find the length of the list."
      ],
      "metadata": {
        "id": "99XfQB0Nb6I1"
      },
      "execution_count": null,
      "outputs": []
    },
    {
      "cell_type": "code",
      "source": [
        "l1=input(\"enter a list: \")\n",
        "l2=l1.split(',')\n",
        "l3=len(l2)\n",
        "print(l3)"
      ],
      "metadata": {
        "colab": {
          "base_uri": "https://localhost:8080/"
        },
        "id": "mUZwGZD8cOwg",
        "outputId": "2ed7720a-a590-4fa2-8f70-36775c62a2e8"
      },
      "execution_count": null,
      "outputs": [
        {
          "output_type": "stream",
          "name": "stdout",
          "text": [
            "enter a list: 1,2,3,4\n",
            "4\n"
          ]
        }
      ]
    },
    {
      "cell_type": "code",
      "source": [
        "#Q39. Add the word \"Big\" in the 3rd index of the given list.\n",
        "#lst = [\"Welcome\", \"to\", \"Data\", \"course\"]"
      ],
      "metadata": {
        "id": "n8Q-8VsUckwe"
      },
      "execution_count": null,
      "outputs": []
    },
    {
      "cell_type": "code",
      "source": [
        "lst = [\"Welcome\", \"to\", \"Data\", \"course\"]\n",
        "lst.insert(2,'Big')\n",
        "print(lst)"
      ],
      "metadata": {
        "colab": {
          "base_uri": "https://localhost:8080/"
        },
        "id": "u6jLEa4UdOW2",
        "outputId": "3636da6e-8093-47ad-f7ff-5458a635cd56"
      },
      "execution_count": null,
      "outputs": [
        {
          "output_type": "stream",
          "name": "stdout",
          "text": [
            "['Welcome', 'to', 'Big', 'Data', 'course']\n"
          ]
        }
      ]
    },
    {
      "cell_type": "code",
      "source": [
        "#Q40. What is a tuple? How is it different from list?"
      ],
      "metadata": {
        "id": "2sGQYrmidqgy"
      },
      "execution_count": null,
      "outputs": []
    },
    {
      "cell_type": "markdown",
      "source": [
        "A tuple is a collection data type similar to a list, but with some key differences:\n",
        "-A tuple is defined using parentheses () whereas a list is defined using square brackets []\n",
        "\n",
        "-Tuples are immutable, meaning their elements cannot be modified or reassigned after creation.\n",
        "Lists are mutable, allowing modification, addition, or removal of elements after creation.\n",
        "\n",
        "-Since tuples are immutable, they require less memory and are faster to access compared to lists, especially for large datasets.\n",
        "Lists, being mutable, may require more memory and processing time for operations such as appending or inserting elements.\n",
        "\n",
        "-"
      ],
      "metadata": {
        "id": "25OVu4t3fMkk"
      }
    },
    {
      "cell_type": "code",
      "source": [
        "#Q41. How can you create a tuple in Python?"
      ],
      "metadata": {
        "id": "JTeLFzereEjp"
      },
      "execution_count": null,
      "outputs": []
    },
    {
      "cell_type": "markdown",
      "source": [
        "Using parentheses having comma separated elemnts we can create tuples and they are immutable.\n",
        "For example: t= (1,,2,3)"
      ],
      "metadata": {
        "id": "PzaBmVopM5um"
      }
    },
    {
      "cell_type": "code",
      "source": [
        "#Q42. Create a tuple and try to add your name in the tuple. Are you able to do it? Support your answer with reason."
      ],
      "metadata": {
        "id": "XamU-exJN1ML"
      },
      "execution_count": null,
      "outputs": []
    },
    {
      "cell_type": "code",
      "source": [
        "t1 = (1,2,3)\n",
        "t1.append(\"sheetal\")\n",
        "print(t1)"
      ],
      "metadata": {
        "colab": {
          "base_uri": "https://localhost:8080/",
          "height": 211
        },
        "id": "k_LS7a4LN72U",
        "outputId": "c7f830b8-61e7-49ee-ddd2-d4717ef3dc50"
      },
      "execution_count": null,
      "outputs": [
        {
          "output_type": "error",
          "ename": "AttributeError",
          "evalue": "'tuple' object has no attribute 'append'",
          "traceback": [
            "\u001b[0;31m---------------------------------------------------------------------------\u001b[0m",
            "\u001b[0;31mAttributeError\u001b[0m                            Traceback (most recent call last)",
            "\u001b[0;32m<ipython-input-1-130dd55c7bdd>\u001b[0m in \u001b[0;36m<cell line: 2>\u001b[0;34m()\u001b[0m\n\u001b[1;32m      1\u001b[0m \u001b[0mt1\u001b[0m \u001b[0;34m=\u001b[0m \u001b[0;34m(\u001b[0m\u001b[0;36m1\u001b[0m\u001b[0;34m,\u001b[0m\u001b[0;36m2\u001b[0m\u001b[0;34m,\u001b[0m\u001b[0;36m3\u001b[0m\u001b[0;34m)\u001b[0m\u001b[0;34m\u001b[0m\u001b[0;34m\u001b[0m\u001b[0m\n\u001b[0;32m----> 2\u001b[0;31m \u001b[0mt1\u001b[0m\u001b[0;34m.\u001b[0m\u001b[0mappend\u001b[0m\u001b[0;34m(\u001b[0m\u001b[0;34m\"sheetal\"\u001b[0m\u001b[0;34m)\u001b[0m\u001b[0;34m\u001b[0m\u001b[0;34m\u001b[0m\u001b[0m\n\u001b[0m\u001b[1;32m      3\u001b[0m \u001b[0mprint\u001b[0m\u001b[0;34m(\u001b[0m\u001b[0mt1\u001b[0m\u001b[0;34m)\u001b[0m\u001b[0;34m\u001b[0m\u001b[0;34m\u001b[0m\u001b[0m\n",
            "\u001b[0;31mAttributeError\u001b[0m: 'tuple' object has no attribute 'append'"
          ]
        }
      ]
    },
    {
      "cell_type": "markdown",
      "source": [
        "we can not add elemnts after tuple has been created because of its immutable nature once tuple is created its elemnts we cant change,add and remove it will raise an attribute error."
      ],
      "metadata": {
        "id": "Nw6NqWXSOSyO"
      }
    },
    {
      "cell_type": "code",
      "source": [
        "#Q43. Can two tuple be appended. If yes, write a code for it. If not, why?"
      ],
      "metadata": {
        "id": "O7g-4lBqOPGz"
      },
      "execution_count": null,
      "outputs": []
    },
    {
      "cell_type": "code",
      "source": [
        "t1=(1,2,3)\n",
        "t2=(4,5,6)\n",
        "t1.append(t2)\n",
        "print(t1)"
      ],
      "metadata": {
        "colab": {
          "base_uri": "https://localhost:8080/",
          "height": 228
        },
        "id": "4td9aXfmO89h",
        "outputId": "d9c4dea6-5595-4c73-fb64-6d5f47983a44"
      },
      "execution_count": null,
      "outputs": [
        {
          "output_type": "error",
          "ename": "AttributeError",
          "evalue": "'tuple' object has no attribute 'append'",
          "traceback": [
            "\u001b[0;31m---------------------------------------------------------------------------\u001b[0m",
            "\u001b[0;31mAttributeError\u001b[0m                            Traceback (most recent call last)",
            "\u001b[0;32m<ipython-input-7-d00c28de53ad>\u001b[0m in \u001b[0;36m<cell line: 3>\u001b[0;34m()\u001b[0m\n\u001b[1;32m      1\u001b[0m \u001b[0mt1\u001b[0m\u001b[0;34m=\u001b[0m\u001b[0;34m(\u001b[0m\u001b[0;36m1\u001b[0m\u001b[0;34m,\u001b[0m\u001b[0;36m2\u001b[0m\u001b[0;34m,\u001b[0m\u001b[0;36m3\u001b[0m\u001b[0;34m)\u001b[0m\u001b[0;34m\u001b[0m\u001b[0;34m\u001b[0m\u001b[0m\n\u001b[1;32m      2\u001b[0m \u001b[0mt2\u001b[0m\u001b[0;34m=\u001b[0m\u001b[0;34m(\u001b[0m\u001b[0;36m4\u001b[0m\u001b[0;34m,\u001b[0m\u001b[0;36m5\u001b[0m\u001b[0;34m,\u001b[0m\u001b[0;36m6\u001b[0m\u001b[0;34m)\u001b[0m\u001b[0;34m\u001b[0m\u001b[0;34m\u001b[0m\u001b[0m\n\u001b[0;32m----> 3\u001b[0;31m \u001b[0mt1\u001b[0m\u001b[0;34m.\u001b[0m\u001b[0mappend\u001b[0m\u001b[0;34m(\u001b[0m\u001b[0mt2\u001b[0m\u001b[0;34m)\u001b[0m\u001b[0;34m\u001b[0m\u001b[0;34m\u001b[0m\u001b[0m\n\u001b[0m\u001b[1;32m      4\u001b[0m \u001b[0mprint\u001b[0m\u001b[0;34m(\u001b[0m\u001b[0mt1\u001b[0m\u001b[0;34m)\u001b[0m\u001b[0;34m\u001b[0m\u001b[0;34m\u001b[0m\u001b[0m\n",
            "\u001b[0;31mAttributeError\u001b[0m: 'tuple' object has no attribute 'append'"
          ]
        }
      ]
    },
    {
      "cell_type": "markdown",
      "source": [
        "Two tuples cannot be appended together because of its immutablity nature however we can concatenate using '+' operator to create new tuple having elemts from both tuples."
      ],
      "metadata": {
        "id": "7owfI3dQPcEA"
      }
    },
    {
      "cell_type": "code",
      "source": [
        "t3=(6,7,8)\n",
        "t4=(1,2,3)\n",
        "Concatenated_tuple=t3+t4\n",
        "print(Concatenated_tuple)"
      ],
      "metadata": {
        "colab": {
          "base_uri": "https://localhost:8080/"
        },
        "id": "vssx2iJJPDiv",
        "outputId": "ffcb7953-4427-4feb-cda2-3d781b38d73c"
      },
      "execution_count": null,
      "outputs": [
        {
          "output_type": "stream",
          "name": "stdout",
          "text": [
            "(6, 7, 8, 1, 2, 3)\n"
          ]
        }
      ]
    },
    {
      "cell_type": "code",
      "source": [
        "#Q44. Take a tuple as an input and print the count of elements in it.\n",
        "\n",
        "\n"
      ],
      "metadata": {
        "id": "4q3o8NWdQQYx"
      },
      "execution_count": null,
      "outputs": []
    },
    {
      "cell_type": "code",
      "source": [
        "t1=tuple(input(\"enter a list: \").split())\n",
        "t2=len(t1)\n",
        "print(t2)"
      ],
      "metadata": {
        "colab": {
          "base_uri": "https://localhost:8080/"
        },
        "id": "dPEkxifeQVGn",
        "outputId": "c3493bcc-e705-4e9f-ed71-2cb909353e4d"
      },
      "execution_count": null,
      "outputs": [
        {
          "output_type": "stream",
          "name": "stdout",
          "text": [
            "enter a list: 1 2 3\n",
            "3\n"
          ]
        }
      ]
    },
    {
      "cell_type": "code",
      "source": [
        "#Q45. What are sets in Python?"
      ],
      "metadata": {
        "id": "vRg0_hVyQzZH"
      },
      "execution_count": null,
      "outputs": []
    },
    {
      "cell_type": "markdown",
      "source": [
        "Sets are unordered collection of unique elements they are mutable but cannot have mutable elements like lists or other sets as elements."
      ],
      "metadata": {
        "id": "tfcz3IGnSw1m"
      }
    },
    {
      "cell_type": "code",
      "source": [
        "#Q46. How can you create a set?"
      ],
      "metadata": {
        "id": "gVtglJTMThzi"
      },
      "execution_count": null,
      "outputs": []
    },
    {
      "cell_type": "code",
      "source": [
        "#ueing {}\n",
        "s={1,2,3,4,3}\n",
        "print(s)"
      ],
      "metadata": {
        "colab": {
          "base_uri": "https://localhost:8080/"
        },
        "id": "H0tqAqdJTl1_",
        "outputId": "6385383a-0e71-4f75-8455-c39840befe29"
      },
      "execution_count": null,
      "outputs": [
        {
          "output_type": "stream",
          "name": "stdout",
          "text": [
            "{1, 2, 3, 4}\n"
          ]
        }
      ]
    },
    {
      "cell_type": "code",
      "source": [
        "#using set() function\n",
        "l=[2,3,4]\n",
        "s2=set(l)\n",
        "print(s2)"
      ],
      "metadata": {
        "colab": {
          "base_uri": "https://localhost:8080/"
        },
        "id": "atmnmgHATsqc",
        "outputId": "f7448743-03f6-408f-c13c-d8982731fb1b"
      },
      "execution_count": null,
      "outputs": [
        {
          "output_type": "stream",
          "name": "stdout",
          "text": [
            "{2, 3, 4}\n"
          ]
        }
      ]
    },
    {
      "cell_type": "code",
      "source": [
        "#Q47. Create a set and add \"iNeuron\" in your set."
      ],
      "metadata": {
        "id": "TjtX0g_RT8qc"
      },
      "execution_count": null,
      "outputs": []
    },
    {
      "cell_type": "code",
      "source": [
        "s={\"bigdata\",\"data analytics\"}\n",
        "s.add(\"iNeuron\")\n",
        "print(s)"
      ],
      "metadata": {
        "colab": {
          "base_uri": "https://localhost:8080/"
        },
        "id": "JMYwCW1kUB6V",
        "outputId": "b31f4d0e-3230-4faa-e615-6a97a5ef430c"
      },
      "execution_count": null,
      "outputs": [
        {
          "output_type": "stream",
          "name": "stdout",
          "text": [
            "{'bigdata', 'iNeuron', 'data analytics'}\n"
          ]
        }
      ]
    },
    {
      "cell_type": "code",
      "source": [
        "#Q48. Try to add multiple values using add() function."
      ],
      "metadata": {
        "id": "TYbgiNKUUTOS"
      },
      "execution_count": null,
      "outputs": []
    },
    {
      "cell_type": "code",
      "source": [
        "s2={'c+','java','python'}\n",
        "s2.add('sql','aws')\n",
        "print(s2)"
      ],
      "metadata": {
        "colab": {
          "base_uri": "https://localhost:8080/",
          "height": 211
        },
        "id": "RYMSXYWYUbiP",
        "outputId": "7bd815ea-3c3a-4676-d9d2-f3248831dcdb"
      },
      "execution_count": null,
      "outputs": [
        {
          "output_type": "error",
          "ename": "TypeError",
          "evalue": "set.add() takes exactly one argument (2 given)",
          "traceback": [
            "\u001b[0;31m---------------------------------------------------------------------------\u001b[0m",
            "\u001b[0;31mTypeError\u001b[0m                                 Traceback (most recent call last)",
            "\u001b[0;32m<ipython-input-20-0e654e29a2ab>\u001b[0m in \u001b[0;36m<cell line: 2>\u001b[0;34m()\u001b[0m\n\u001b[1;32m      1\u001b[0m \u001b[0ms2\u001b[0m\u001b[0;34m=\u001b[0m\u001b[0;34m{\u001b[0m\u001b[0;34m'c+'\u001b[0m\u001b[0;34m,\u001b[0m\u001b[0;34m'java'\u001b[0m\u001b[0;34m,\u001b[0m\u001b[0;34m'python'\u001b[0m\u001b[0;34m}\u001b[0m\u001b[0;34m\u001b[0m\u001b[0;34m\u001b[0m\u001b[0m\n\u001b[0;32m----> 2\u001b[0;31m \u001b[0ms2\u001b[0m\u001b[0;34m.\u001b[0m\u001b[0madd\u001b[0m\u001b[0;34m(\u001b[0m\u001b[0;34m'sql'\u001b[0m\u001b[0;34m,\u001b[0m\u001b[0;34m'aws'\u001b[0m\u001b[0;34m)\u001b[0m\u001b[0;34m\u001b[0m\u001b[0;34m\u001b[0m\u001b[0m\n\u001b[0m\u001b[1;32m      3\u001b[0m \u001b[0mprint\u001b[0m\u001b[0;34m(\u001b[0m\u001b[0ms2\u001b[0m\u001b[0;34m)\u001b[0m\u001b[0;34m\u001b[0m\u001b[0;34m\u001b[0m\u001b[0m\n",
            "\u001b[0;31mTypeError\u001b[0m: set.add() takes exactly one argument (2 given)"
          ]
        }
      ]
    },
    {
      "cell_type": "code",
      "source": [
        "s3={'c+','java','python'}\n",
        "s3.update(['sql','aws'])\n",
        "print(s3)"
      ],
      "metadata": {
        "colab": {
          "base_uri": "https://localhost:8080/"
        },
        "id": "wD3b2U6SUq3n",
        "outputId": "761b16a1-a530-4d83-9946-2fde42d82fd9"
      },
      "execution_count": null,
      "outputs": [
        {
          "output_type": "stream",
          "name": "stdout",
          "text": [
            "{'java', 'sql', 'aws', 'c+', 'python'}\n"
          ]
        }
      ]
    },
    {
      "cell_type": "code",
      "source": [
        "#Q49. How is update() different from add()?"
      ],
      "metadata": {
        "id": "hIbdBVnQU2Jn"
      },
      "execution_count": null,
      "outputs": []
    },
    {
      "cell_type": "markdown",
      "source": [
        "-When used with sets (set.update()), it adds elements from another set (or any iterable) to the existing set.\n",
        "\n",
        "-When used with dictionaries (dict.update()), it updates the dictionary with key-value pairs from another dictionary or iterable. If a key already exists, its corresponding value is updated; otherwise, a new key-value pair is added.\n",
        "\n",
        "=add()\n",
        "-It adds a single element to the set.\n",
        "-If the element is already present in the set, the set remains unchanged.\n",
        "-It doesn't apply to dictionaries"
      ],
      "metadata": {
        "id": "ulbI0CvdVCSj"
      }
    },
    {
      "cell_type": "code",
      "source": [
        "#Q50. What is clear() in sets?"
      ],
      "metadata": {
        "id": "ys36eBFyb12j"
      },
      "execution_count": null,
      "outputs": []
    },
    {
      "cell_type": "markdown",
      "source": [
        "\n",
        "The clear() method is used to remove all elements from a set. After calling clear(), the set becomes empty."
      ],
      "metadata": {
        "id": "FZrtJ_4IcFBx"
      }
    },
    {
      "cell_type": "code",
      "source": [
        "s={1,2,3,4}\n",
        "s.clear()\n",
        "print(s)"
      ],
      "metadata": {
        "colab": {
          "base_uri": "https://localhost:8080/"
        },
        "id": "GsgAGzvGb7lk",
        "outputId": "41680f90-6571-467e-d264-4897c474e6ab"
      },
      "execution_count": null,
      "outputs": [
        {
          "output_type": "stream",
          "name": "stdout",
          "text": [
            "set()\n"
          ]
        }
      ]
    },
    {
      "cell_type": "code",
      "source": [
        "#Q51. What is frozen set?"
      ],
      "metadata": {
        "id": "JITU6cpwcQLx"
      },
      "execution_count": null,
      "outputs": []
    },
    {
      "cell_type": "markdown",
      "source": [
        "A frozen set in Python is an immutable version of a set. It's created using the built-in frozenset() function."
      ],
      "metadata": {
        "id": "eIML-6skcz_F"
      }
    },
    {
      "cell_type": "code",
      "source": [
        "#Q52. How is frozen set different from set?"
      ],
      "metadata": {
        "id": "_oh7fOkLc4kt"
      },
      "execution_count": null,
      "outputs": []
    },
    {
      "cell_type": "markdown",
      "source": [
        "1)Mutability:\n",
        "Sets (set): Sets are mutable, meaning you can add or remove elements from them after they are created.\n",
        "Frozen sets (frozenset): Frozen sets are immutable, meaning once created, their elements cannot be changed. You cannot add or remove elements from a frozen set after it has been created.\n",
        "\n",
        "2)Hashability:\n",
        "Sets (set): Sets are not hashable, meaning you cannot use them as elements in other sets or as keys in dictionaries. This is because sets are mutable, and their contents could change, making it difficult to track them in hash-based data structures.\n",
        "Frozen sets (frozenset): Frozen sets are hashable, meaning you can use them as elements in other sets or as keys in dictionaries. This is because frozen sets are immutable, and their contents cannot change after creation, making them suitable for hash-based data structures.\n",
        "\n",
        "3)Usage:\n",
        "Sets (set): Sets are used when you need a mutable collection of unique elements with fast membership testing and set operations.\n",
        "Frozen sets (frozenset): Frozen sets are used when you need an immutable collection of unique elements that can be used as keys in dictionaries or as elements in other sets.\n",
        "\n",
        "4)Creation:\n",
        "Sets (set): Sets are created using curly braces {} or the set() constructor.\n",
        "Frozen sets (frozenset): Frozen sets are created using the frozenset() constructor."
      ],
      "metadata": {
        "id": "MJxK60pUc-la"
      }
    },
    {
      "cell_type": "code",
      "source": [
        "#Q53. What is union() in sets? Explain via code"
      ],
      "metadata": {
        "id": "iFy5peOAdjGZ"
      },
      "execution_count": null,
      "outputs": []
    },
    {
      "cell_type": "markdown",
      "source": [
        "In Python, the union() method is used to create a new set that contains all the unique elements present in two or more sets. It performs the union operation, which means it combines the elements of the sets without including any duplicates."
      ],
      "metadata": {
        "id": "QBTbOqbBfwIU"
      }
    },
    {
      "cell_type": "code",
      "source": [
        "set1 = {1, 2, 3}\n",
        "set2 = {3, 4, 5}\n",
        "set3 = {5, 6, 7}\n",
        "result_set = set1.union(set2, set3)\n",
        "print(result_set)"
      ],
      "metadata": {
        "colab": {
          "base_uri": "https://localhost:8080/"
        },
        "id": "Py5aBvG1f5gz",
        "outputId": "d4dc0d0f-8280-4370-b5e2-705c349dfb44"
      },
      "execution_count": null,
      "outputs": [
        {
          "output_type": "stream",
          "name": "stdout",
          "text": [
            "{1, 2, 3, 4, 5, 6, 7}\n"
          ]
        }
      ]
    },
    {
      "cell_type": "code",
      "source": [
        "#Q54. What is intersection() in sets? Explain via code.\n"
      ],
      "metadata": {
        "id": "YSZ6HhVmgA0e"
      },
      "execution_count": null,
      "outputs": []
    },
    {
      "cell_type": "markdown",
      "source": [
        "intersection() is a method available for sets that returns a new set containing elements that are common to both sets. In other words, it computes the intersection of two sets."
      ],
      "metadata": {
        "id": "hD8m8Jvq2VgQ"
      }
    },
    {
      "cell_type": "code",
      "source": [
        "set1 = {1, 2, 3, 4, 5}\n",
        "set2 = {4, 5, 6, 7, 8}\n",
        "\n",
        "intersection_set = set1.intersection(set2)\n",
        "\n",
        "print(\"Intersection of set1 and set2:\", intersection_set)\n"
      ],
      "metadata": {
        "colab": {
          "base_uri": "https://localhost:8080/"
        },
        "id": "7F6DWxQK1vIs",
        "outputId": "7a47a2cc-06e8-4494-ff0f-a00051b07d87"
      },
      "execution_count": null,
      "outputs": [
        {
          "output_type": "stream",
          "name": "stdout",
          "text": [
            "Intersection of set1 and set2: {4, 5}\n"
          ]
        }
      ]
    },
    {
      "cell_type": "code",
      "source": [
        "#Q55. What is dictionary ibn Python?"
      ],
      "metadata": {
        "id": "vPgcdM412fwE"
      },
      "execution_count": null,
      "outputs": []
    },
    {
      "cell_type": "markdown",
      "source": [
        "Dictionary is a built-in data type that stores a collection of key-value pairs.\n",
        "Dictionaries are unordered, mutable, and can contain elements of any data type."
      ],
      "metadata": {
        "id": "xGxfjDal2lnb"
      }
    },
    {
      "cell_type": "code",
      "source": [
        "#Q56. How is dictionary different from all other data structures."
      ],
      "metadata": {
        "id": "Uauqx8Uj3Oyh"
      },
      "execution_count": null,
      "outputs": []
    },
    {
      "cell_type": "markdown",
      "source": [
        "-Key-Value Pairing: Dictionaries are based on a key-value pairing system, where each element in the dictionary is stored as a pair of keys and their corresponding values. Other data structures like lists, tuples, and sets are primarily ordered or unordered collections of individual elements without explicit key-value relationships.\n",
        "\n",
        "-Access via Keys: Elements in a dictionary are accessed by their keys rather than by their position (index) as in lists and tuples. This key-based access provides fast retrieval of values associated with specific keys.\n",
        "\n",
        "-Mutable and Dynamic: Dictionaries are mutable, meaning they can be modified after creation. You can add, update, or delete key-value pairs dynamically. In contrast, tuples are immutable, and while lists are mutable, their structure (length and order) remains fixed once created.\n",
        "\n",
        "-Efficient for Key-Based Operations: Dictionaries are optimized for key-based operations such as searching, inserting, updating, and deleting elements. This makes them efficient for tasks where key-based retrieval or manipulation of data is a primary requirement."
      ],
      "metadata": {
        "id": "cFuVT4L03ScN"
      }
    },
    {
      "cell_type": "code",
      "source": [
        "#Q57. How can we delare a dictionary in Python?"
      ],
      "metadata": {
        "id": "E_Ks_u_M4ZX3"
      },
      "execution_count": null,
      "outputs": []
    },
    {
      "cell_type": "markdown",
      "source": [
        "We can declare a dictionary using curly braces {} to enclose key-value pairs. Each key-value pair is separated by a colon\n",
        " for ex: my_dict = {key1: value1, key2: value2, key3: value3, ...}\n"
      ],
      "metadata": {
        "id": "7vkVUEUE4dwJ"
      }
    },
    {
      "cell_type": "code",
      "source": [
        "#Q58. What will the output of the following?\n",
        "var = {}\n",
        "print(type(var))"
      ],
      "metadata": {
        "colab": {
          "base_uri": "https://localhost:8080/"
        },
        "id": "oiszE-M44qbH",
        "outputId": "a9b0d0d7-97a2-44d7-e29d-7fe9a5348407"
      },
      "execution_count": null,
      "outputs": [
        {
          "output_type": "stream",
          "name": "stdout",
          "text": [
            "<class 'dict'>\n"
          ]
        }
      ]
    },
    {
      "cell_type": "code",
      "source": [
        "#Q59. How can we add an element in a dictionary?"
      ],
      "metadata": {
        "id": "s-w7lC-L4xcD"
      },
      "execution_count": null,
      "outputs": []
    },
    {
      "cell_type": "code",
      "source": [
        "dict={'a':1,'b':2}"
      ],
      "metadata": {
        "id": "a2Nh28H346G2"
      },
      "execution_count": null,
      "outputs": []
    },
    {
      "cell_type": "code",
      "source": [
        "dict['c']=3\n",
        "print(dict)"
      ],
      "metadata": {
        "colab": {
          "base_uri": "https://localhost:8080/"
        },
        "id": "nerRnuHn5Fdt",
        "outputId": "521b7574-77a0-4557-ee0d-8b522b2aec1d"
      },
      "execution_count": null,
      "outputs": [
        {
          "output_type": "stream",
          "name": "stdout",
          "text": [
            "{'a': 1, 'b': 2, 'c': 3}\n"
          ]
        }
      ]
    },
    {
      "cell_type": "code",
      "source": [
        "d={'name':'sheetal','age':25}\n",
        "d1={'skills':'sql','course':'big data'}\n",
        "d.update(d1)\n",
        "print(d)"
      ],
      "metadata": {
        "colab": {
          "base_uri": "https://localhost:8080/"
        },
        "id": "V1nIdNpe5L8Q",
        "outputId": "9556d309-f876-492e-f53d-64fca0d45995"
      },
      "execution_count": null,
      "outputs": [
        {
          "output_type": "stream",
          "name": "stdout",
          "text": [
            "{'name': 'sheetal', 'age': 25, 'skills': 'sql', 'course': 'big data'}\n"
          ]
        }
      ]
    },
    {
      "cell_type": "code",
      "source": [
        "#Q60. Create a dictionary and access all the values in that dictionary."
      ],
      "metadata": {
        "id": "y4FwpJ_r5pvp"
      },
      "execution_count": null,
      "outputs": []
    },
    {
      "cell_type": "code",
      "source": [
        "d2={'name':'sheetal','age':25}\n",
        "d2.values()"
      ],
      "metadata": {
        "colab": {
          "base_uri": "https://localhost:8080/"
        },
        "id": "d7NhIaf-5_mU",
        "outputId": "bf80dbfa-6f91-4dac-a079-580005b38c83"
      },
      "execution_count": null,
      "outputs": [
        {
          "output_type": "execute_result",
          "data": {
            "text/plain": [
              "dict_values(['sheetal', 25])"
            ]
          },
          "metadata": {},
          "execution_count": 11
        }
      ]
    },
    {
      "cell_type": "code",
      "source": [
        "#Q61. Create a nested dictionary and access all the element in the inner dictionary."
      ],
      "metadata": {
        "id": "7ewoE28j6NJC"
      },
      "execution_count": null,
      "outputs": []
    },
    {
      "cell_type": "code",
      "source": [
        "nested_dict = {\n",
        "    'key': {\n",
        "        'a': 'sheetal',\n",
        "        'b': 'neha'},\n",
        "    'key1': {\n",
        "        'c': 'vidya',\n",
        "        'd': 'afreed'\n",
        "    }\n",
        "}\n",
        "\n",
        "for inner_dict in nested_dict.values():\n",
        "    for key, value in inner_dict.items():\n",
        "        print(\"Key:\", key, \"- Value:\", value)\n"
      ],
      "metadata": {
        "colab": {
          "base_uri": "https://localhost:8080/"
        },
        "id": "99l5rCjT6Qu-",
        "outputId": "e8b35d3e-b7e2-4239-8fe3-5a543c6495cd"
      },
      "execution_count": null,
      "outputs": [
        {
          "output_type": "stream",
          "name": "stdout",
          "text": [
            "Key: a - Value: sheetal\n",
            "Key: b - Value: neha\n",
            "Key: c - Value: vidya\n",
            "Key: d - Value: afreed\n"
          ]
        }
      ]
    },
    {
      "cell_type": "code",
      "source": [
        "#Q62. What is the use of get() function?"
      ],
      "metadata": {
        "id": "UhHcESFl7Fnu"
      },
      "execution_count": null,
      "outputs": []
    },
    {
      "cell_type": "markdown",
      "source": [
        "get() function is a built-in method used to retrieve the value of a key in a dictionary. It provides a way to access dictionary elements without raising an error if the specified key does not exist."
      ],
      "metadata": {
        "id": "_Excktoy7a2X"
      }
    },
    {
      "cell_type": "code",
      "source": [
        "d={'name':'sheetal','age':25}\n",
        "dict=d.get('name')\n",
        "print(dict)"
      ],
      "metadata": {
        "colab": {
          "base_uri": "https://localhost:8080/"
        },
        "id": "x1OmTaMk7Lf7",
        "outputId": "4cf9d06f-bc6a-48ab-fefa-f45eb1287091"
      },
      "execution_count": null,
      "outputs": [
        {
          "output_type": "stream",
          "name": "stdout",
          "text": [
            "sheetal\n"
          ]
        }
      ]
    },
    {
      "cell_type": "code",
      "source": [
        "#Q63. What is the use of items() function?"
      ],
      "metadata": {
        "id": "QptcXOh47qBn"
      },
      "execution_count": null,
      "outputs": []
    },
    {
      "cell_type": "markdown",
      "source": [
        "items() function is a built-in method used to return a view object that displays a list of key-value tuple pairs of a dictionary's elements. This view object can then be iterated over, allowing you to access both keys and values of the dictionary in a convenient manner."
      ],
      "metadata": {
        "id": "2iTQIHUO72sx"
      }
    },
    {
      "cell_type": "code",
      "source": [
        "d={'name':'sheetal','age':25}\n",
        "for key, value in d.items():\n",
        "    print(\"Key:\", key, \"- Value:\", value)"
      ],
      "metadata": {
        "colab": {
          "base_uri": "https://localhost:8080/"
        },
        "id": "8j2WjE1x71M0",
        "outputId": "46b43151-ddd2-40de-b79a-89997ffad0ce"
      },
      "execution_count": null,
      "outputs": [
        {
          "output_type": "stream",
          "name": "stdout",
          "text": [
            "Key: name - Value: sheetal\n",
            "Key: age - Value: 25\n"
          ]
        }
      ]
    },
    {
      "cell_type": "code",
      "source": [
        "#Q64. What is the use of pop() function?"
      ],
      "metadata": {
        "id": "eG_7c6eo8NCG"
      },
      "execution_count": null,
      "outputs": []
    },
    {
      "cell_type": "markdown",
      "source": [
        "pop() function is a built-in method used to remove and return the value associated with a specified key from a dictionary. It takes one mandatory argument, which is the key whose associated value is to be removed. Optionally, you can also provide a default value to return if the key is not found in the dictionary."
      ],
      "metadata": {
        "id": "sbwtXSQE8Zy-"
      }
    },
    {
      "cell_type": "code",
      "source": [
        "d={'name':'sheetal','age':25}\n",
        "d1=d.pop('age')\n",
        "print(d1)\n",
        "print(d)"
      ],
      "metadata": {
        "colab": {
          "base_uri": "https://localhost:8080/"
        },
        "id": "a3BNjMCs8SYi",
        "outputId": "d4f1fa10-65ae-4cdb-cd72-409e8336283a"
      },
      "execution_count": null,
      "outputs": [
        {
          "output_type": "stream",
          "name": "stdout",
          "text": [
            "25\n",
            "{'name': 'sheetal'}\n"
          ]
        }
      ]
    },
    {
      "cell_type": "code",
      "source": [
        "#default value\n",
        "d={'name':'sheetal','age':25}\n",
        "d2=d.pop('city','not found')\n",
        "print(d2)\n",
        "print(d)"
      ],
      "metadata": {
        "colab": {
          "base_uri": "https://localhost:8080/"
        },
        "id": "BT_Ys8fJ8s8q",
        "outputId": "3975da80-f26d-4221-9be2-f02c4bf520e7"
      },
      "execution_count": null,
      "outputs": [
        {
          "output_type": "stream",
          "name": "stdout",
          "text": [
            "not found\n",
            "{'name': 'sheetal', 'age': 25}\n"
          ]
        }
      ]
    },
    {
      "cell_type": "code",
      "source": [
        "#Q65. What is the use of popitems() function?"
      ],
      "metadata": {
        "id": "6HM5cXn49LWi"
      },
      "execution_count": null,
      "outputs": []
    },
    {
      "cell_type": "markdown",
      "source": [
        "popitem() function is a built-in method used to remove and return an arbitrary key-value pair from a dictionary. This function does not take any arguments."
      ],
      "metadata": {
        "id": "_9YYjdQd9yZe"
      }
    },
    {
      "cell_type": "code",
      "source": [
        "d={'name':'sheetal','age':25}\n",
        "d4=d.popitem()\n",
        "print(d4)\n",
        "print(d)"
      ],
      "metadata": {
        "colab": {
          "base_uri": "https://localhost:8080/"
        },
        "id": "if4yvvTH9QgK",
        "outputId": "e6edbce5-2719-4dbe-fd13-d49b7c652cfd"
      },
      "execution_count": null,
      "outputs": [
        {
          "output_type": "stream",
          "name": "stdout",
          "text": [
            "('age', 25)\n",
            "{'name': 'sheetal'}\n"
          ]
        }
      ]
    },
    {
      "cell_type": "code",
      "source": [
        "#Q66. What is the use of keys() function?\n",
        "\n"
      ],
      "metadata": {
        "id": "74EXY4Ew953l"
      },
      "execution_count": null,
      "outputs": []
    },
    {
      "cell_type": "markdown",
      "source": [
        "keys() function is a built-in method used to return a view object that displays a list of all the keys in a dictionary. This view object can then be iterated over, allowing you to access each key in the dictionary."
      ],
      "metadata": {
        "id": "u-0FCORr-Tpf"
      }
    },
    {
      "cell_type": "code",
      "source": [
        "my_dict = {'name': 'John', 'age': 30, 'city': 'New York'}\n",
        "\n",
        "for key in my_dict.keys():\n",
        "    print(\"Key:\", key)\n"
      ],
      "metadata": {
        "colab": {
          "base_uri": "https://localhost:8080/"
        },
        "id": "oJ0OPbkA-3F3",
        "outputId": "9d6410c0-9bda-48c1-ecee-d8432185ec3f"
      },
      "execution_count": null,
      "outputs": [
        {
          "output_type": "stream",
          "name": "stdout",
          "text": [
            "Key: name\n",
            "Key: age\n",
            "Key: city\n"
          ]
        }
      ]
    },
    {
      "cell_type": "code",
      "source": [
        "#Q67. What is the use of values() function?"
      ],
      "metadata": {
        "id": "xLQAwFMd-5rU"
      },
      "execution_count": null,
      "outputs": []
    },
    {
      "cell_type": "markdown",
      "source": [
        "values() function is a built-in method used to return a view object that displays a list of all the values in a dictionary. This view object can then be iterated over, allowing you to access each value in the dictionary."
      ],
      "metadata": {
        "id": "jez_D7p6_Cg9"
      }
    },
    {
      "cell_type": "code",
      "source": [
        "my_dict = {'name': 'John', 'age': 30, 'city': 'New York'}\n",
        "\n",
        "for value in my_dict.values():\n",
        "    print(\"value:\", value)"
      ],
      "metadata": {
        "colab": {
          "base_uri": "https://localhost:8080/"
        },
        "id": "tbSb0IX7-9xN",
        "outputId": "258079cc-c28f-4f79-aba2-2fe78ed44d02"
      },
      "execution_count": null,
      "outputs": [
        {
          "output_type": "stream",
          "name": "stdout",
          "text": [
            "value: John\n",
            "value: 30\n",
            "value: New York\n"
          ]
        }
      ]
    },
    {
      "cell_type": "code",
      "source": [
        "#Q68. What are loops in Python?"
      ],
      "metadata": {
        "id": "urR30e12_JhB"
      },
      "execution_count": null,
      "outputs": []
    },
    {
      "cell_type": "markdown",
      "source": [
        "loops are control flow structures that allow you to execute a block of code repeatedly. They are used to iterate over sequences, such as lists, tuples, dictionaries, or ranges, and perform operations on each element within the sequence."
      ],
      "metadata": {
        "id": "N8RVsG--_957"
      }
    },
    {
      "cell_type": "code",
      "source": [
        "#For loop\n",
        "l=[1,2,3,4]\n",
        "for i in l:\n",
        "  if i%2==0:\n",
        "    print(\"even no\")\n",
        "  else:\n",
        "    print(\"odd no\")"
      ],
      "metadata": {
        "colab": {
          "base_uri": "https://localhost:8080/"
        },
        "id": "4prUJhSU_p_X",
        "outputId": "e91795b5-df2c-44ac-a614-c9860f2b1b18"
      },
      "execution_count": null,
      "outputs": [
        {
          "output_type": "stream",
          "name": "stdout",
          "text": [
            "odd no\n",
            "even no\n",
            "odd no\n",
            "even no\n"
          ]
        }
      ]
    },
    {
      "cell_type": "code",
      "source": [
        "#While loop\n",
        "num = 1\n",
        "\n",
        "while num <= 5:\n",
        "    print(num)\n",
        "\n",
        "    num += 1\n",
        "\n"
      ],
      "metadata": {
        "colab": {
          "base_uri": "https://localhost:8080/"
        },
        "id": "PzAbp9hvAUqp",
        "outputId": "24696a22-b8e2-41a8-c11a-a1369ceb96b1"
      },
      "execution_count": null,
      "outputs": [
        {
          "output_type": "stream",
          "name": "stdout",
          "text": [
            "1\n",
            "2\n",
            "3\n",
            "4\n",
            "5\n"
          ]
        }
      ]
    },
    {
      "cell_type": "code",
      "source": [
        "#Q69. How many type of loop are there in Python?"
      ],
      "metadata": {
        "id": "FQFF7-E8AkGc"
      },
      "execution_count": null,
      "outputs": []
    },
    {
      "cell_type": "code",
      "source": [
        "# For loop and while loop"
      ],
      "metadata": {
        "id": "0fln3Z3WBnIi"
      },
      "execution_count": null,
      "outputs": []
    },
    {
      "cell_type": "code",
      "source": [
        "#Q70. What is the difference between for and while loops?"
      ],
      "metadata": {
        "id": "ClxeXHfmeHxF"
      },
      "execution_count": null,
      "outputs": []
    },
    {
      "cell_type": "markdown",
      "source": [
        "For Loop:\n",
        "A for loop is typically used when the number of iterations is known beforehand.\n",
        "It consists of three parts: initialization, condition, and increment/decrement.\n",
        "The loop iterates over a sequence (such as a range of numbers or elements in a list) and executes the block of code until the condition evaluates to false."
      ],
      "metadata": {
        "id": "efqOPYUJeatG"
      }
    },
    {
      "cell_type": "code",
      "source": [
        "for i in range(5):\n",
        "  print(i)"
      ],
      "metadata": {
        "colab": {
          "base_uri": "https://localhost:8080/"
        },
        "id": "MQBgh12fed87",
        "outputId": "21f2da2e-e8dc-47a2-fd55-8cc1249b731a"
      },
      "execution_count": null,
      "outputs": [
        {
          "output_type": "stream",
          "name": "stdout",
          "text": [
            "0\n",
            "1\n",
            "2\n",
            "3\n",
            "4\n"
          ]
        }
      ]
    },
    {
      "cell_type": "markdown",
      "source": [
        "While Loop:\n",
        "A while loop is used when the number of iterations is not known beforehand and depends on a condition.\n",
        "It repeats a block of code as long as the condition remains true.\n",
        "Unlike the for loop, the while loop doesn't require explicit initialization or increment/decrement."
      ],
      "metadata": {
        "id": "3_y0XlL7fDsw"
      }
    },
    {
      "cell_type": "code",
      "source": [
        "i = 0\n",
        "while i < 5:\n",
        "    print(i)\n",
        "    i += 1\n"
      ],
      "metadata": {
        "colab": {
          "base_uri": "https://localhost:8080/"
        },
        "id": "nSy4VStDfFNe",
        "outputId": "d62f4d90-b8c8-4494-d8b2-234908d32b33"
      },
      "execution_count": null,
      "outputs": [
        {
          "output_type": "stream",
          "name": "stdout",
          "text": [
            "0\n",
            "1\n",
            "2\n",
            "3\n",
            "4\n"
          ]
        }
      ]
    },
    {
      "cell_type": "code",
      "source": [
        "#Q71. What is the use of continue statement?"
      ],
      "metadata": {
        "id": "ICdwGPbPfH18"
      },
      "execution_count": null,
      "outputs": []
    },
    {
      "cell_type": "markdown",
      "source": [
        "The continue statement is used in programming languages like Python, C, C++, Java to skip the rest of the code inside a loop for the current iteration and move on to the next iteration. It is particularly useful in situations where we want to skip certain iterations based on a condition without terminating the loop entirely.\n",
        "\n",
        "-When the continue statement is encountered within a loop, the remaining code within that loop's body for the current iteration is skipped.\n",
        "-\n",
        "The loop then proceeds to the next iteration, executing from the beginning of the loop block again."
      ],
      "metadata": {
        "id": "qf5U5WFifTTO"
      }
    },
    {
      "cell_type": "code",
      "source": [
        "for i in range(5):\n",
        "    if i == 2:\n",
        "        continue\n",
        "    print(i)\n"
      ],
      "metadata": {
        "colab": {
          "base_uri": "https://localhost:8080/"
        },
        "id": "-WevBUA1gIn6",
        "outputId": "3adbcbdc-66cf-43b3-e990-31888509d4cf"
      },
      "execution_count": null,
      "outputs": [
        {
          "output_type": "stream",
          "name": "stdout",
          "text": [
            "0\n",
            "1\n",
            "3\n",
            "4\n"
          ]
        }
      ]
    },
    {
      "cell_type": "code",
      "source": [
        "#Q72. What is the use of break statement?"
      ],
      "metadata": {
        "id": "U2hJQCZwgKsX"
      },
      "execution_count": null,
      "outputs": []
    },
    {
      "cell_type": "markdown",
      "source": [
        "The break statement is used to exit a loop prematurely based on a certain condition. When the break statement is encountered inside a loop, it causes the loop to terminate immediately, and the program continues execution from the statement immediately following the loop."
      ],
      "metadata": {
        "id": "MkviQEgjgRJq"
      }
    },
    {
      "cell_type": "code",
      "source": [
        "for i in range(5):\n",
        "    if i == 3:\n",
        "        break\n",
        "    print(i)\n"
      ],
      "metadata": {
        "colab": {
          "base_uri": "https://localhost:8080/"
        },
        "id": "7AFjxXT2gfcN",
        "outputId": "a03f9288-3457-448a-d62e-5a76e44d499d"
      },
      "execution_count": null,
      "outputs": [
        {
          "output_type": "stream",
          "name": "stdout",
          "text": [
            "0\n",
            "1\n",
            "2\n"
          ]
        }
      ]
    },
    {
      "cell_type": "code",
      "source": [
        "#Q73. What is the use of pass statement?"
      ],
      "metadata": {
        "id": "BJ_hpoIVghN8"
      },
      "execution_count": null,
      "outputs": []
    },
    {
      "cell_type": "markdown",
      "source": [
        "\n",
        "The pass statement is a placeholder that does nothing when executed. It's primarily used when a statement is syntactically required but no action needs to be taken. Essentially, it acts as a \"do-nothing\" placeholder."
      ],
      "metadata": {
        "id": "iphG1W6hglR-"
      }
    },
    {
      "cell_type": "code",
      "source": [
        "def task1():\n",
        "  pass"
      ],
      "metadata": {
        "id": "XZdWYsr8hFuG"
      },
      "execution_count": null,
      "outputs": []
    },
    {
      "cell_type": "code",
      "source": [
        "for i in range(5):\n",
        "  if i==4:\n",
        "    pass\n",
        "  else:\n",
        "    print(\"required nu\")"
      ],
      "metadata": {
        "colab": {
          "base_uri": "https://localhost:8080/"
        },
        "id": "y6dJuRdVhMBX",
        "outputId": "9c667e01-cb0c-4168-8e99-6b0383704775"
      },
      "execution_count": null,
      "outputs": [
        {
          "output_type": "stream",
          "name": "stdout",
          "text": [
            "required nu\n",
            "required nu\n",
            "required nu\n",
            "required nu\n"
          ]
        }
      ]
    },
    {
      "cell_type": "code",
      "source": [
        "#Q74. What is the use of range() function?"
      ],
      "metadata": {
        "id": "8OIDe391hWgz"
      },
      "execution_count": null,
      "outputs": []
    },
    {
      "cell_type": "markdown",
      "source": [
        "The range() function in Python is used to generate a sequence of numbers. It is commonly used in conjunction with loops to iterate a certain number of times or to generate a sequence of numbers for various purposes.\n",
        "\n",
        "If you provide one argument, it will generate a sequence of numbers starting from 0 up to (but not including) the specified number.\n",
        "If you provide two arguments, it will generate a sequence of numbers starting from the first argument up to (but not including) the second argument.\n",
        "If you provide three arguments, the first two specify the start and end of the sequence, and the third specifies the step size."
      ],
      "metadata": {
        "id": "Bi2unHGBiHoH"
      }
    },
    {
      "cell_type": "code",
      "source": [
        "for i in range(0,9,2):\n",
        "    print(i)\n"
      ],
      "metadata": {
        "colab": {
          "base_uri": "https://localhost:8080/"
        },
        "id": "T0SW7QehiIeT",
        "outputId": "a74da12f-76e4-4e62-cba7-41fa0eaa40de"
      },
      "execution_count": null,
      "outputs": [
        {
          "output_type": "stream",
          "name": "stdout",
          "text": [
            "0\n",
            "2\n",
            "4\n",
            "6\n",
            "8\n"
          ]
        }
      ]
    },
    {
      "cell_type": "code",
      "source": [
        "#Q75. How can you loop over a dictionary?"
      ],
      "metadata": {
        "id": "dAYUc4CZiYcG"
      },
      "execution_count": null,
      "outputs": []
    },
    {
      "cell_type": "markdown",
      "source": [
        "we can use for loop to iterate over the keys of a dictionary. By default, iterating over a dictionary implicitly iterates over its keys."
      ],
      "metadata": {
        "id": "aYlIv5qqjDQn"
      }
    },
    {
      "cell_type": "code",
      "source": [
        "my_dict = {'a': 1, 'b': 2, 'c': 3}\n",
        "for key in my_dict:\n",
        "    print(key)\n"
      ],
      "metadata": {
        "colab": {
          "base_uri": "https://localhost:8080/"
        },
        "id": "yj-wvf0zjHEw",
        "outputId": "6de8778e-6b44-4958-e429-9e5f1398688e"
      },
      "execution_count": null,
      "outputs": [
        {
          "output_type": "stream",
          "name": "stdout",
          "text": [
            "a\n",
            "b\n",
            "c\n"
          ]
        }
      ]
    },
    {
      "cell_type": "markdown",
      "source": [
        " can use the items() method to loop over both keys and values of a dictionary simultaneously."
      ],
      "metadata": {
        "id": "-XSOYLTljO9J"
      }
    },
    {
      "cell_type": "code",
      "source": [
        "my_dict = {'a': 1, 'b': 2, 'c': 3}\n",
        "for key, value in my_dict.items():\n",
        "    print(key, value)\n"
      ],
      "metadata": {
        "colab": {
          "base_uri": "https://localhost:8080/"
        },
        "id": "jqSC2EwJjJts",
        "outputId": "80093978-3dcf-44c9-f3ee-5d00ca1d1d7b"
      },
      "execution_count": null,
      "outputs": [
        {
          "output_type": "stream",
          "name": "stdout",
          "text": [
            "a 1\n",
            "b 2\n",
            "c 3\n"
          ]
        }
      ]
    },
    {
      "cell_type": "code",
      "source": [
        "#Q76. Write a Python program to find the factorial of a given number."
      ],
      "metadata": {
        "id": "5luTYJ5ZjSAo"
      },
      "execution_count": null,
      "outputs": []
    },
    {
      "cell_type": "code",
      "source": [
        "def factorial(n):\n",
        "    if n == 0:\n",
        "        return 1\n",
        "    else:\n",
        "        return n * factorial(n-1)\n",
        "\n",
        "num = int(input(\"Enter a number: \"))\n",
        "print(\"Factorial of\", num, \"is\", factorial(num))\n"
      ],
      "metadata": {
        "colab": {
          "base_uri": "https://localhost:8080/"
        },
        "id": "4RQpvCxTrIA9",
        "outputId": "0af1e60c-e915-423c-b057-ed2903dcfb46"
      },
      "execution_count": null,
      "outputs": [
        {
          "output_type": "stream",
          "name": "stdout",
          "text": [
            "Enter a number: 6\n",
            "Factorial of 6 is 720\n"
          ]
        }
      ]
    },
    {
      "cell_type": "code",
      "source": [
        "#Q77. Write a Python program to calculate the simple interest. Formula to calculate simple interest is SI = (PRT)/100"
      ],
      "metadata": {
        "id": "j_uNAyTIrEZc"
      },
      "execution_count": null,
      "outputs": []
    },
    {
      "cell_type": "code",
      "source": [
        "def simple_interest(p, r, t):\n",
        "    return (p * r * t) / 100\n",
        "\n",
        "p = float(input(\"Enter the principal amount (P): \"))\n",
        "r = float(input(\"Enter the rate of interest (R): \"))\n",
        "t = float(input(\"Enter the time period in years (T): \"))\n",
        "\n",
        "si = simple_interest(p, r, t)\n",
        "print(\"Simple Interest =\", si)\n"
      ],
      "metadata": {
        "colab": {
          "base_uri": "https://localhost:8080/"
        },
        "id": "raGoHPMLrXLh",
        "outputId": "9ec94092-31dc-4150-a1ef-ce7526f172ce"
      },
      "execution_count": null,
      "outputs": [
        {
          "output_type": "stream",
          "name": "stdout",
          "text": [
            "Enter the principal amount (P): 1000\n",
            "Enter the rate of interest (R): 2\n",
            "Enter the time period in years (T): 5\n",
            "Simple Interest = 100.0\n"
          ]
        }
      ]
    },
    {
      "cell_type": "code",
      "source": [
        "#Q78. Write a Python program to calculate the compound interest. Formula of compound interest is A = P(1+ R/100)^t."
      ],
      "metadata": {
        "id": "uM8C4e1orRn0"
      },
      "execution_count": null,
      "outputs": []
    },
    {
      "cell_type": "code",
      "source": [
        "def compound_interest(p, r, t):\n",
        "    return p * (1 + r/100) ** t\n",
        "\n",
        "p = float(input(\"Enter the principal amount (P): \"))\n",
        "r = float(input(\"Enter the rate of interest (R): \"))\n",
        "t = float(input(\"Enter the time period in years (T): \"))\n",
        "\n",
        "ci = compound_interest(p, r, t)\n",
        "print(\"Compound Interest =\", ci)"
      ],
      "metadata": {
        "colab": {
          "base_uri": "https://localhost:8080/"
        },
        "id": "oVKqWaQbrlj9",
        "outputId": "7bf04b7c-f2e7-4e97-f954-8f027710ae31"
      },
      "execution_count": null,
      "outputs": [
        {
          "output_type": "stream",
          "name": "stdout",
          "text": [
            "Enter the principal amount (P): 1000\n",
            "Enter the rate of interest (R): 2\n",
            "Enter the time period in years (T): 5\n",
            "Compound Interest = 1104.0808032\n"
          ]
        }
      ]
    },
    {
      "cell_type": "code",
      "source": [
        "#Q79. Write a Python program to check if a number is prime or not."
      ],
      "metadata": {
        "id": "jSPZPvEcrmbT"
      },
      "execution_count": null,
      "outputs": []
    },
    {
      "cell_type": "code",
      "source": [
        "def is_prime(n):\n",
        "    if n <= 1:\n",
        "        return False\n",
        "    if n <= 3:\n",
        "        return True\n",
        "    if n % 2 == 0 or n % 3 == 0:\n",
        "        return False\n",
        "    i = 5\n",
        "    while i * i <= n:\n",
        "        if n % i == 0 or n % (i + 2) == 0:\n",
        "            return False\n",
        "        i += 6\n",
        "    return True\n",
        "\n",
        "num = int(input(\"Enter a number: \"))\n",
        "if is_prime(num):\n",
        "    print(num, \"is a prime number\")\n",
        "else:\n",
        "    print(num, \"is not a prime number\")\n"
      ],
      "metadata": {
        "colab": {
          "base_uri": "https://localhost:8080/"
        },
        "id": "0tZykDqRrr6X",
        "outputId": "795ebe76-f73c-40e8-c702-9bc69a99944f"
      },
      "execution_count": null,
      "outputs": [
        {
          "output_type": "stream",
          "name": "stdout",
          "text": [
            "Enter a number: 2\n",
            "2 is a prime number\n"
          ]
        }
      ]
    },
    {
      "cell_type": "code",
      "source": [
        "#Q80. Write a Python program to check Armstrong Number."
      ],
      "metadata": {
        "id": "NRNMtei8rwmA"
      },
      "execution_count": null,
      "outputs": []
    },
    {
      "cell_type": "code",
      "source": [
        "def is_armstrong(num):\n",
        "    order = len(str(num))\n",
        "    sum = 0\n",
        "    temp = num\n",
        "    while temp > 0:\n",
        "        digit = temp % 10\n",
        "        sum += digit ** order\n",
        "        temp //= 10\n",
        "    return num == sum\n",
        "\n",
        "num = int(input(\"Enter a number: \"))\n",
        "if is_armstrong(num):\n",
        "    print(num, \"is an Armstrong number\")\n",
        "else:\n",
        "    print(num, \"is not an Armstrong number\")"
      ],
      "metadata": {
        "colab": {
          "base_uri": "https://localhost:8080/"
        },
        "id": "1x43GGLhr0wk",
        "outputId": "0a629b6c-a99e-4c05-917b-3ef78a7c881d"
      },
      "execution_count": null,
      "outputs": [
        {
          "output_type": "stream",
          "name": "stdout",
          "text": [
            "Enter a number: 23\n",
            "23 is not an Armstrong number\n"
          ]
        }
      ]
    },
    {
      "cell_type": "code",
      "source": [
        "#Q81. Write a Python program to find the n-th Fibonacci Number."
      ],
      "metadata": {
        "id": "cyt2YdJdr65H"
      },
      "execution_count": null,
      "outputs": []
    },
    {
      "cell_type": "code",
      "source": [
        "def fibonacci(n):\n",
        "    if n <= 0:\n",
        "        print(\"Incorrect input\")\n",
        "    elif n == 1:\n",
        "        return 0\n",
        "    elif n == 2:\n",
        "        return 1\n",
        "    else:\n",
        "        return fibonacci(n-1) + fibonacci(n-2)\n",
        "\n",
        "n = int(input(\"Enter the value of n: \"))\n",
        "print(\"Fibonacci number at position\", n, \"is\", fibonacci(n))"
      ],
      "metadata": {
        "colab": {
          "base_uri": "https://localhost:8080/"
        },
        "id": "keOBDwwSsAjS",
        "outputId": "434fd633-e31c-4642-bc93-c795f11e43ed"
      },
      "execution_count": null,
      "outputs": [
        {
          "output_type": "stream",
          "name": "stdout",
          "text": [
            "Enter the value of n: 6\n",
            "Fibonacci number at position 6 is 5\n"
          ]
        }
      ]
    },
    {
      "cell_type": "code",
      "source": [
        "#Q82. Write a Python program to interchange the first and last element in a list."
      ],
      "metadata": {
        "id": "PsdbuhktsKcK"
      },
      "execution_count": null,
      "outputs": []
    },
    {
      "cell_type": "code",
      "source": [
        "def interchange_first_last(lst):\n",
        "    if len(lst) < 2:\n",
        "        return lst\n",
        "    lst[0], lst[-1] = lst[-1], lst[0]\n",
        "    return lst"
      ],
      "metadata": {
        "id": "hdYjlTybsQDH"
      },
      "execution_count": null,
      "outputs": []
    },
    {
      "cell_type": "code",
      "source": [
        "interchange_first_last([10,23,45,67,98])"
      ],
      "metadata": {
        "colab": {
          "base_uri": "https://localhost:8080/"
        },
        "id": "AT1T9k_Rsodk",
        "outputId": "079aa755-db7f-4883-ab13-5400dc496057"
      },
      "execution_count": null,
      "outputs": [
        {
          "output_type": "execute_result",
          "data": {
            "text/plain": [
              "[98, 23, 45, 67, 10]"
            ]
          },
          "metadata": {},
          "execution_count": 15
        }
      ]
    },
    {
      "cell_type": "code",
      "source": [
        "#Q83. Write a Python program to swap two elements in a list."
      ],
      "metadata": {
        "id": "FH0FGwTbsvNQ"
      },
      "execution_count": null,
      "outputs": []
    },
    {
      "cell_type": "code",
      "source": [
        "def swap_elements(lst, idx1, idx2):\n",
        "    lst[idx1], lst[idx2] = lst[idx2], lst[idx1]\n",
        "    return lst"
      ],
      "metadata": {
        "id": "zp3YJHJ-szOS"
      },
      "execution_count": null,
      "outputs": []
    },
    {
      "cell_type": "code",
      "source": [
        "swap_elements([1,2,3,4],2,3)"
      ],
      "metadata": {
        "colab": {
          "base_uri": "https://localhost:8080/"
        },
        "id": "cqEAkWDbs7y1",
        "outputId": "a34cddef-a967-4d39-f071-f8c28df6e303"
      },
      "execution_count": null,
      "outputs": [
        {
          "output_type": "execute_result",
          "data": {
            "text/plain": [
              "[1, 2, 4, 3]"
            ]
          },
          "metadata": {},
          "execution_count": 20
        }
      ]
    },
    {
      "cell_type": "code",
      "source": [
        "#Q84. Write a Python program to find N largest element from a list."
      ],
      "metadata": {
        "id": "apvb9wWDs_4q"
      },
      "execution_count": null,
      "outputs": []
    },
    {
      "cell_type": "code",
      "source": [
        "def find_n_largest(lst, n):\n",
        "    if n > len(lst):\n",
        "        return \"N is greater than the length of the list\"\n",
        "    else:\n",
        "        sorted_list = sorted(lst, reverse=True)\n",
        "        return sorted_list[:n]"
      ],
      "metadata": {
        "id": "HerQmpKDtRqt"
      },
      "execution_count": null,
      "outputs": []
    },
    {
      "cell_type": "code",
      "source": [
        "find_n_largest([12,34,56,78],2)"
      ],
      "metadata": {
        "colab": {
          "base_uri": "https://localhost:8080/"
        },
        "id": "QGaGM3H6t33Z",
        "outputId": "042473ea-dd80-4dcf-ab65-35a0f69d7beb"
      },
      "execution_count": null,
      "outputs": [
        {
          "output_type": "execute_result",
          "data": {
            "text/plain": [
              "[78, 56]"
            ]
          },
          "metadata": {},
          "execution_count": 26
        }
      ]
    },
    {
      "cell_type": "code",
      "source": [
        "#Q85. Write a Python program to find cumulative sum of a list."
      ],
      "metadata": {
        "id": "RzgRmmDot82Y"
      },
      "execution_count": null,
      "outputs": []
    },
    {
      "cell_type": "code",
      "source": [
        "def cumulative_sum(lst):\n",
        "    cum_sum = [sum(lst[:i+1]) for i in range(len(lst))]\n",
        "    return cum_sum"
      ],
      "metadata": {
        "id": "sBdSS3FjuHoW"
      },
      "execution_count": null,
      "outputs": []
    },
    {
      "cell_type": "code",
      "source": [
        "cumulative_sum([23,67,89,45])"
      ],
      "metadata": {
        "colab": {
          "base_uri": "https://localhost:8080/"
        },
        "id": "O9EHiIl9uNRP",
        "outputId": "7ea1f224-7fd5-4976-e600-2fcdd5b512e4"
      },
      "execution_count": null,
      "outputs": [
        {
          "output_type": "execute_result",
          "data": {
            "text/plain": [
              "[23, 90, 179, 224]"
            ]
          },
          "metadata": {},
          "execution_count": 29
        }
      ]
    },
    {
      "cell_type": "code",
      "source": [
        "#Q86. Write a Python program to check if a string is palindrome or not."
      ],
      "metadata": {
        "id": "X7rrywBLuQWY"
      },
      "execution_count": null,
      "outputs": []
    },
    {
      "cell_type": "code",
      "source": [
        "def is_palindrome(s):\n",
        "    s = s.lower()  # Convert string to lowercase\n",
        "    s = ''.join(e for e in s if e.isalnum())  # Remove non-alphanumeric characters\n",
        "    return s == s[::-1]  # Check if the string is equal to its reverse\n",
        "\n",
        "# Example usage\n",
        "string = input(\"Enter a string: \")\n",
        "if is_palindrome(string):\n",
        "    print(\"The string is a palindrome\")\n",
        "else:\n",
        "    print(\"The string is not a palindrome\")"
      ],
      "metadata": {
        "colab": {
          "base_uri": "https://localhost:8080/"
        },
        "id": "w7TyL2hIubtx",
        "outputId": "4e44b626-dec0-4dbd-abfe-2d5d692de8d7"
      },
      "execution_count": null,
      "outputs": [
        {
          "output_type": "stream",
          "name": "stdout",
          "text": [
            "Enter a string: mam\n",
            "The string is a palindrome\n"
          ]
        }
      ]
    },
    {
      "cell_type": "code",
      "source": [
        "#Q87. Write a Python program to remove i'th element from a string."
      ],
      "metadata": {
        "id": "N2gc3oEauen6"
      },
      "execution_count": null,
      "outputs": []
    },
    {
      "cell_type": "code",
      "source": [
        "def remove_ith_char(s, i):\n",
        "    if i < 0 or i >= len(s):\n",
        "        return \"Index out of range\"\n",
        "    return s[:i] + s[i+1:]"
      ],
      "metadata": {
        "id": "lE8wFYp6umJL"
      },
      "execution_count": null,
      "outputs": []
    },
    {
      "cell_type": "code",
      "source": [
        "remove_ith_char('sheets',5)"
      ],
      "metadata": {
        "colab": {
          "base_uri": "https://localhost:8080/",
          "height": 35
        },
        "id": "RCn8EpISuqAp",
        "outputId": "bc0147a3-1142-409f-fe6a-5b88b58b4944"
      },
      "execution_count": null,
      "outputs": [
        {
          "output_type": "execute_result",
          "data": {
            "text/plain": [
              "'sheet'"
            ],
            "application/vnd.google.colaboratory.intrinsic+json": {
              "type": "string"
            }
          },
          "metadata": {},
          "execution_count": 34
        }
      ]
    },
    {
      "cell_type": "code",
      "source": [
        "#Q88. Write a Python program to check if a substring is present in a given string."
      ],
      "metadata": {
        "id": "1HAbLJmRuwCu"
      },
      "execution_count": null,
      "outputs": []
    },
    {
      "cell_type": "code",
      "source": [
        "def is_substring_present(s, substring):\n",
        "    return substring in s\n",
        "\n",
        "    if is_substring_present(s, substring):\n",
        "      print(\"The substring is present in the string\")\n",
        "    else:\n",
        "      print(\"The substring is not present in the string\")"
      ],
      "metadata": {
        "id": "hIYr4gnKu03e"
      },
      "execution_count": null,
      "outputs": []
    },
    {
      "cell_type": "code",
      "source": [
        "is_substring_present('sheetal','sh')"
      ],
      "metadata": {
        "colab": {
          "base_uri": "https://localhost:8080/"
        },
        "id": "rO1AiBlpu6Gn",
        "outputId": "7adae2db-923e-4935-9d2d-1a8ace570220"
      },
      "execution_count": null,
      "outputs": [
        {
          "output_type": "execute_result",
          "data": {
            "text/plain": [
              "True"
            ]
          },
          "metadata": {},
          "execution_count": 41
        }
      ]
    },
    {
      "cell_type": "code",
      "source": [
        "#Q89. Write a Python program to find words which are greater than given length k."
      ],
      "metadata": {
        "id": "eY9U4B77u_Kn"
      },
      "execution_count": null,
      "outputs": []
    },
    {
      "cell_type": "code",
      "source": [
        "def find_long_words(s, k):\n",
        "    words = s.split()\n",
        "    long_words = [word for word in words if len(word) > k]\n",
        "    return long_words"
      ],
      "metadata": {
        "id": "YqFvzFLwvb71"
      },
      "execution_count": null,
      "outputs": []
    },
    {
      "cell_type": "code",
      "source": [
        "find_long_words('my name is sheetal',5)"
      ],
      "metadata": {
        "colab": {
          "base_uri": "https://localhost:8080/"
        },
        "id": "Th6i0sFivttH",
        "outputId": "a8327847-a9e9-4b06-cd8f-41f1c8d3a56a"
      },
      "execution_count": null,
      "outputs": [
        {
          "output_type": "execute_result",
          "data": {
            "text/plain": [
              "['sheetal']"
            ]
          },
          "metadata": {},
          "execution_count": 44
        }
      ]
    },
    {
      "cell_type": "code",
      "source": [
        "#Q90. Write a Python program to extract unquie dictionary values."
      ],
      "metadata": {
        "id": "22qTD8h8wAfh"
      },
      "execution_count": null,
      "outputs": []
    },
    {
      "cell_type": "code",
      "source": [
        "def extract_unique_values(dictionary):\n",
        "    unique_values = set(value for values in dictionary.values() for value in values)\n",
        "    return list(unique_values)"
      ],
      "metadata": {
        "id": "pBxxFloxwFX0"
      },
      "execution_count": null,
      "outputs": []
    },
    {
      "cell_type": "code",
      "source": [
        "extract_unique_values({'a':[1,2,3,3,3,3],'b':[2,1,3]})"
      ],
      "metadata": {
        "colab": {
          "base_uri": "https://localhost:8080/"
        },
        "id": "9Pl_JdTcwQmK",
        "outputId": "1553a414-f420-4881-e93d-4a55a676c8c5"
      },
      "execution_count": null,
      "outputs": [
        {
          "output_type": "execute_result",
          "data": {
            "text/plain": [
              "[1, 2, 3]"
            ]
          },
          "metadata": {},
          "execution_count": 48
        }
      ]
    },
    {
      "cell_type": "code",
      "source": [
        "#Q91. Write a Python program to merge two dictionary."
      ],
      "metadata": {
        "id": "muIvIv0xwevG"
      },
      "execution_count": null,
      "outputs": []
    },
    {
      "cell_type": "code",
      "source": [
        "def merge_dicts(dict1, dict2):\n",
        "    merged_dict = {**dict1, **dict2}\n",
        "    return merged_dict"
      ],
      "metadata": {
        "id": "4C4A8fyFwrPC"
      },
      "execution_count": null,
      "outputs": []
    },
    {
      "cell_type": "code",
      "source": [
        "dict1={'a':'sheetal','b':'jatti'}\n",
        "dict2={'c':'Big data bootcamp','d':25}\n",
        "merge_dicts(dict1,dict2)\n"
      ],
      "metadata": {
        "colab": {
          "base_uri": "https://localhost:8080/"
        },
        "id": "Ch0QGWmBw8dL",
        "outputId": "e5e51bf2-5e60-43b8-eb63-05fbede653d8"
      },
      "execution_count": null,
      "outputs": [
        {
          "output_type": "execute_result",
          "data": {
            "text/plain": [
              "{'a': 'sheetal', 'b': 'jatti', 'c': 'Big data bootcamp', 'd': 25}"
            ]
          },
          "metadata": {},
          "execution_count": 51
        }
      ]
    },
    {
      "cell_type": "code",
      "source": [
        "#Q92. Write a Python program to convert a list of tuples into dictionary.\n",
        "#Input : [('Sachin', 10), ('MSD', 7), ('Kohli', 18), ('Rohit', 45)]\n",
        "#Output : {'Sachin': 10, 'MSD': 7, 'Kohli': 18, 'Rohit': 45}"
      ],
      "metadata": {
        "id": "be5hP0TkxPLE"
      },
      "execution_count": 1,
      "outputs": []
    },
    {
      "cell_type": "code",
      "source": [
        "def convert_to_dict(list_of_tuples):\n",
        "    return dict(list_of_tuples)"
      ],
      "metadata": {
        "id": "gGagNe2AWE9I"
      },
      "execution_count": 2,
      "outputs": []
    },
    {
      "cell_type": "code",
      "source": [
        "list_of_tuples=[('Sachin', 10), ('MSD', 7), ('Kohli', 18), ('Rohit', 45)]\n",
        "convert_to_dict(list_of_tuples)"
      ],
      "metadata": {
        "colab": {
          "base_uri": "https://localhost:8080/"
        },
        "id": "ZzpcjSqtWUUU",
        "outputId": "f57ca3fe-abde-4974-a45e-32d638f032c7"
      },
      "execution_count": 3,
      "outputs": [
        {
          "output_type": "execute_result",
          "data": {
            "text/plain": [
              "{'Sachin': 10, 'MSD': 7, 'Kohli': 18, 'Rohit': 45}"
            ]
          },
          "metadata": {},
          "execution_count": 3
        }
      ]
    },
    {
      "cell_type": "code",
      "source": [
        "#Q93. Write a Python program to create a list of tuples from given list having number and its cube in each tuple.\n",
        "#Input: list = [9, 5, 6]\n",
        "#utput: [(9, 729), (5, 125), (6, 216)]\n"
      ],
      "metadata": {
        "id": "dkCU2P0KWe1a"
      },
      "execution_count": 4,
      "outputs": []
    },
    {
      "cell_type": "code",
      "source": [
        "def create_tuple_list(lst):\n",
        "    tuple_list = [(x, x**3) for x in lst]\n",
        "    return tuple_list"
      ],
      "metadata": {
        "id": "LZu4EojoWoaO"
      },
      "execution_count": 5,
      "outputs": []
    },
    {
      "cell_type": "code",
      "source": [
        "lst=[9,5,6]\n",
        "create_tuple_list(lst)\n"
      ],
      "metadata": {
        "colab": {
          "base_uri": "https://localhost:8080/"
        },
        "id": "XG2R3onkXno4",
        "outputId": "3a73c3c6-9ae8-4add-df93-70c22c923a29"
      },
      "execution_count": 6,
      "outputs": [
        {
          "output_type": "execute_result",
          "data": {
            "text/plain": [
              "[(9, 729), (5, 125), (6, 216)]"
            ]
          },
          "metadata": {},
          "execution_count": 6
        }
      ]
    },
    {
      "cell_type": "code",
      "source": [
        "#Q94. Write a Python program to get all combinations of 2 tuples.\n",
        "#Input : test_tuple1 = (7, 2), test_tuple2 = (7, 8)\n",
        "#utput : [(7, 7), (7, 8), (2, 7), (2, 8), (7, 7), (7, 2), (8, 7), (8, 2)]\n"
      ],
      "metadata": {
        "id": "iIL880C8XueF"
      },
      "execution_count": 7,
      "outputs": []
    },
    {
      "cell_type": "code",
      "source": [
        "from itertools import product\n",
        "\n",
        "def get_all_combinations(tuple1, tuple2):\n",
        "    return list(product(tuple1, tuple2))"
      ],
      "metadata": {
        "id": "msGASKDgX1dl"
      },
      "execution_count": 8,
      "outputs": []
    },
    {
      "cell_type": "code",
      "source": [
        "test_tuple1 = (7, 2)\n",
        "test_tuple2 = (7, 8)\n",
        "output = get_all_combinations(test_tuple1, test_tuple2)\n",
        "print(\"Output:\", output)"
      ],
      "metadata": {
        "colab": {
          "base_uri": "https://localhost:8080/"
        },
        "id": "esflJPWBYFIv",
        "outputId": "6b5014c9-fa4b-482b-de0d-565c66da5525"
      },
      "execution_count": 9,
      "outputs": [
        {
          "output_type": "stream",
          "name": "stdout",
          "text": [
            "Output: [(7, 7), (7, 8), (2, 7), (2, 8)]\n"
          ]
        }
      ]
    },
    {
      "cell_type": "code",
      "source": [
        "#Q95. Write a Python program to sort a list of tuples by second item.\n",
        "#Input : [('for', 24), ('Geeks', 8), ('Geeks', 30)]\n",
        "#Output : [('Geeks', 8), ('for', 24), ('Geeks', 30)]\n"
      ],
      "metadata": {
        "id": "oopQhR-BYJ8C"
      },
      "execution_count": 10,
      "outputs": []
    },
    {
      "cell_type": "code",
      "source": [
        "def sort_list_of_tuples(lst):\n",
        "    return sorted(lst, key=lambda x: x[1])"
      ],
      "metadata": {
        "id": "X1YuV4GDYQ_A"
      },
      "execution_count": 11,
      "outputs": []
    },
    {
      "cell_type": "code",
      "source": [
        "lst=[('sheetal',25),('neha',24)]\n",
        "sort_list_of_tuples(lst)"
      ],
      "metadata": {
        "colab": {
          "base_uri": "https://localhost:8080/"
        },
        "id": "oOM3kifiYUvp",
        "outputId": "d07e84de-60d1-4bd2-85b8-fb4f9584947b"
      },
      "execution_count": 13,
      "outputs": [
        {
          "output_type": "execute_result",
          "data": {
            "text/plain": [
              "[('neha', 24), ('sheetal', 25)]"
            ]
          },
          "metadata": {},
          "execution_count": 13
        }
      ]
    },
    {
      "cell_type": "code",
      "source": [
        "\"\"\"#Q96. Write a python program to print below pattern.\n",
        "\n",
        "*\n",
        "* *\n",
        "* * *\n",
        "* * * *\n",
        "* * * * * \"\"\""
      ],
      "metadata": {
        "colab": {
          "base_uri": "https://localhost:8080/",
          "height": 35
        },
        "id": "dSvpFcQCYi1U",
        "outputId": "cf9d93ca-dc41-483e-842c-644a92186455"
      },
      "execution_count": 14,
      "outputs": [
        {
          "output_type": "execute_result",
          "data": {
            "text/plain": [
              "'#Q96. Write a python program to print below pattern.\\n\\n* \\n* * \\n* * * \\n* * * * \\n* * * * * '"
            ],
            "application/vnd.google.colaboratory.intrinsic+json": {
              "type": "string"
            }
          },
          "metadata": {},
          "execution_count": 14
        }
      ]
    },
    {
      "cell_type": "code",
      "source": [
        "def print_pattern(n):\n",
        "    for i in range(1, n+1):\n",
        "        print(\"* \" * i)"
      ],
      "metadata": {
        "id": "LtWLVIKTYs_5"
      },
      "execution_count": 15,
      "outputs": []
    },
    {
      "cell_type": "code",
      "source": [
        "n=5\n",
        "print_pattern(n)\n"
      ],
      "metadata": {
        "colab": {
          "base_uri": "https://localhost:8080/"
        },
        "id": "2PafSVmiY0Vo",
        "outputId": "92af9a8d-3e33-4300-a39c-a5acc981e89b"
      },
      "execution_count": 16,
      "outputs": [
        {
          "output_type": "stream",
          "name": "stdout",
          "text": [
            "* \n",
            "* * \n",
            "* * * \n",
            "* * * * \n",
            "* * * * * \n"
          ]
        }
      ]
    },
    {
      "cell_type": "code",
      "source": [
        "\"\"\"#Q97. Write a python program to print below pattern.\n",
        "\n",
        "    *\n",
        "   **\n",
        "  ***\n",
        " ****\n",
        "*****\"\"\""
      ],
      "metadata": {
        "colab": {
          "base_uri": "https://localhost:8080/",
          "height": 35
        },
        "id": "7JROEiM8Y4Ek",
        "outputId": "de10f853-7a28-4e7b-81bd-9ead1d2ec6b1"
      },
      "execution_count": 17,
      "outputs": [
        {
          "output_type": "execute_result",
          "data": {
            "text/plain": [
              "'#Q97. Write a python program to print below pattern.\\n\\n    *\\n   **\\n  ***\\n ****\\n*****'"
            ],
            "application/vnd.google.colaboratory.intrinsic+json": {
              "type": "string"
            }
          },
          "metadata": {},
          "execution_count": 17
        }
      ]
    },
    {
      "cell_type": "code",
      "source": [
        "def print_pattern(n):\n",
        "    for i in range(1, n+1):\n",
        "        print(\" \" * (n-i) + \"*\" * i)"
      ],
      "metadata": {
        "id": "ZboOOgR2Y-dX"
      },
      "execution_count": 18,
      "outputs": []
    },
    {
      "cell_type": "code",
      "source": [
        "n=5\n",
        "print_pattern(n)"
      ],
      "metadata": {
        "colab": {
          "base_uri": "https://localhost:8080/"
        },
        "id": "6V9f5-CFZD2o",
        "outputId": "c3ffb497-1e6c-485d-a95f-154905827d18"
      },
      "execution_count": 19,
      "outputs": [
        {
          "output_type": "stream",
          "name": "stdout",
          "text": [
            "    *\n",
            "   **\n",
            "  ***\n",
            " ****\n",
            "*****\n"
          ]
        }
      ]
    },
    {
      "cell_type": "code",
      "source": [
        "\"\"\"#Q98. Write a python program to print below pattern.\n",
        "\n",
        "    *\n",
        "   * *\n",
        "  * * *\n",
        " * * * *\n",
        "* * * * * \"\"\""
      ],
      "metadata": {
        "colab": {
          "base_uri": "https://localhost:8080/",
          "height": 35
        },
        "id": "AiNHepBZZH_d",
        "outputId": "a620cb8d-249e-4d89-eadc-3ffb04194471"
      },
      "execution_count": 20,
      "outputs": [
        {
          "output_type": "execute_result",
          "data": {
            "text/plain": [
              "'#Q98. Write a python program to print below pattern.\\n\\n    * \\n   * * \\n  * * * \\n * * * * \\n* * * * * '"
            ],
            "application/vnd.google.colaboratory.intrinsic+json": {
              "type": "string"
            }
          },
          "metadata": {},
          "execution_count": 20
        }
      ]
    },
    {
      "cell_type": "code",
      "source": [
        "def print_pattern(n):\n",
        "    for i in range(1, n+1):\n",
        "        print(\" \" * (n-i) + \"* \" * i)"
      ],
      "metadata": {
        "id": "sDtgpXHzZMme"
      },
      "execution_count": 21,
      "outputs": []
    },
    {
      "cell_type": "code",
      "source": [
        "n=7\n",
        "print_pattern(n)\n"
      ],
      "metadata": {
        "colab": {
          "base_uri": "https://localhost:8080/"
        },
        "id": "vpVQaQKsZR99",
        "outputId": "42d937d4-bf04-479b-da9c-795e82ec9764"
      },
      "execution_count": 22,
      "outputs": [
        {
          "output_type": "stream",
          "name": "stdout",
          "text": [
            "      * \n",
            "     * * \n",
            "    * * * \n",
            "   * * * * \n",
            "  * * * * * \n",
            " * * * * * * \n",
            "* * * * * * * \n"
          ]
        }
      ]
    },
    {
      "cell_type": "code",
      "source": [
        "\"\"\"Q99. Write a python program to print below pattern.\n",
        "\n",
        "1\n",
        "1 2\n",
        "1 2 3\n",
        "1 2 3 4\n",
        "1 2 3 4 5\"\"\""
      ],
      "metadata": {
        "colab": {
          "base_uri": "https://localhost:8080/",
          "height": 35
        },
        "id": "fhUlMCoVZVTS",
        "outputId": "ad5f6489-8ba0-40b1-fa9c-e0d41ae71da3"
      },
      "execution_count": 23,
      "outputs": [
        {
          "output_type": "execute_result",
          "data": {
            "text/plain": [
              "'Q99. Write a python program to print below pattern.\\n\\n1 \\n1 2 \\n1 2 3 \\n1 2 3 4 \\n1 2 3 4 5'"
            ],
            "application/vnd.google.colaboratory.intrinsic+json": {
              "type": "string"
            }
          },
          "metadata": {},
          "execution_count": 23
        }
      ]
    },
    {
      "cell_type": "code",
      "source": [
        "def print_pattern(n):\n",
        "    for i in range(1, n+1):\n",
        "        for j in range(1, i+1):\n",
        "            print(j, end=\" \")\n",
        "        print()\n",
        "n = 5\n",
        "print_pattern(n)\n"
      ],
      "metadata": {
        "colab": {
          "base_uri": "https://localhost:8080/"
        },
        "id": "thYr1HAMZZ54",
        "outputId": "701f6009-1bb9-4e54-c98c-b7ee3bb4e0a3"
      },
      "execution_count": 24,
      "outputs": [
        {
          "output_type": "stream",
          "name": "stdout",
          "text": [
            "1 \n",
            "1 2 \n",
            "1 2 3 \n",
            "1 2 3 4 \n",
            "1 2 3 4 5 \n"
          ]
        }
      ]
    },
    {
      "cell_type": "code",
      "source": [
        "\"\"\"#Q100. Write a python program to print below pattern.\n",
        "A\n",
        "B B\n",
        "C C C\n",
        "D D D D\n",
        "E E E E E \"\"\""
      ],
      "metadata": {
        "colab": {
          "base_uri": "https://localhost:8080/",
          "height": 35
        },
        "id": "xKouMqIja2on",
        "outputId": "346fb8b9-0f46-4d12-fbe5-a73f717b9f45"
      },
      "execution_count": 25,
      "outputs": [
        {
          "output_type": "execute_result",
          "data": {
            "text/plain": [
              "'#Q100. Write a python program to print below pattern.\\nA \\nB B \\nC C C \\nD D D D \\nE E E E E '"
            ],
            "application/vnd.google.colaboratory.intrinsic+json": {
              "type": "string"
            }
          },
          "metadata": {},
          "execution_count": 25
        }
      ]
    },
    {
      "cell_type": "code",
      "source": [
        "def print_pattern(n):\n",
        "    for i in range(1, n+1):\n",
        "        print((chr(64+i) + ' ') * i)"
      ],
      "metadata": {
        "id": "ez8F1uoda-fl"
      },
      "execution_count": 26,
      "outputs": []
    },
    {
      "cell_type": "code",
      "source": [
        "n=6\n",
        "print_pattern(n)\n",
        "\n"
      ],
      "metadata": {
        "colab": {
          "base_uri": "https://localhost:8080/"
        },
        "id": "PtK89PJSbEGD",
        "outputId": "e8794767-bbcf-4104-cf4c-903e2325c9c2"
      },
      "execution_count": 27,
      "outputs": [
        {
          "output_type": "stream",
          "name": "stdout",
          "text": [
            "A \n",
            "B B \n",
            "C C C \n",
            "D D D D \n",
            "E E E E E \n",
            "F F F F F F \n"
          ]
        }
      ]
    },
    {
      "cell_type": "code",
      "source": [],
      "metadata": {
        "id": "VGR-rn4AbMTd"
      },
      "execution_count": null,
      "outputs": []
    }
  ]
}